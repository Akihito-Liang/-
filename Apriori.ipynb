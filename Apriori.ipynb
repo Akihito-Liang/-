{
 "cells": [
  {
   "cell_type": "code",
   "execution_count": 2,
   "metadata": {},
   "outputs": [],
   "source": [
    "import numpy as np"
   ]
  },
  {
   "cell_type": "code",
   "execution_count": 13,
   "metadata": {},
   "outputs": [],
   "source": [
    "def getDataSet():\n",
    "    #创建一个数据集\n",
    "    return [ [ 1, 3, 4 ], [ 2, 3, 5 ], [ 1, 2, 3, 5 ], [ 2, 5 ] ]\n",
    "\n",
    "def creatSet(dataSet):\n",
    "    #创建包含所有选项的候选集\n",
    "    candidateSet = []\n",
    "    for sublist in dataSet:\n",
    "        for item in sublist:\n",
    "            if [item] not in candidateSet:\n",
    "                candidateSet.append([item])\n",
    "    \n",
    "    candidateSet = sorted(candidateSet)\n",
    "    return map(frozenset,candidateSet)\n",
    "\n",
    "\n"
   ]
  },
  {
   "cell_type": "code",
   "execution_count": 14,
   "metadata": {},
   "outputs": [],
   "source": [
    "def scanDataSet(dataSet,candidateSet,minSupport,minConfidence):\n",
    "    '''\n",
    "    计算candidateSet中的项集在数据集合dataSet(记录或者transactions)中的支持度,\n",
    "    返回满足最小支持度的项集的集合，和所有项集支持度信息的字典。\n",
    "    '''\n",
    "    countD = {}\n",
    "    for item in candidateSet:\n",
    "        for sublist in dataSet:\n",
    "            if item.issubset(sublist):\n",
    "                countD[item] = countD.get(item,0) + 1\n",
    "    num = float(len(dataSet))\n",
    "    resList = []\n",
    "    supportData = {}\n",
    "    conList = []\n",
    "    for key in countD.keys():\n",
    "        support = countD[key]/num\n",
    "        if support >= minSupport:\n",
    "            resList.insert( 0, key )\n",
    "        if support >= minConfidence:\n",
    "            conList.insert(0,key)\n",
    "        supportData[key] = support\n",
    "    return resList,supportData,conList\n"
   ]
  },
  {
   "cell_type": "code",
   "execution_count": 17,
   "metadata": {
    "scrolled": true
   },
   "outputs": [],
   "source": [
    "def apriorigen(fl,k):\n",
    "    resList = []\n",
    "    listnum = len(fl)\n",
    "    for i in range(listnum):\n",
    "        for j in range(i+1,listnum):\n",
    "            \n",
    "            l1 = list(fl[i])[:k-2]\n",
    "            l2 = list(fl[j])[:k-2]\n",
    "            l1.sort()\n",
    "            l2.sort()\n",
    "            if l1 == l2:\n",
    "                resList.append(fl[i]|fl[j])\n",
    "    return resList\n",
    "\n",
    "def apriori(dataSet,minsupport=0.5,minConfidence=0.7):\n",
    "    candidateSet = creatSet(dataSet)\n",
    "    L,suppData,Con = scanDataSet(dataSet,candidateSet,minsupport,minConfidence)\n",
    "    FL = [L]\n",
    "    k = 2\n",
    "    cf = [Con]\n",
    "    \n",
    "    while(len(FL[k-2])>0):\n",
    "        cl = apriorigen(FL[k-2],k)\n",
    "        lk ,suk,con = scanDataSet(dataSet,cl,minsupport,minConfidence)\n",
    "        suppData.update(suk)\n",
    "        FL.append(lk)\n",
    "        cf.append(con)\n",
    "        k += 1\n",
    "    \n",
    "    return FL,suppData,cf\n",
    "\n",
    "\n"
   ]
  },
  {
   "cell_type": "code",
   "execution_count": 19,
   "metadata": {},
   "outputs": [
    {
     "name": "stdout",
     "output_type": "stream",
     "text": [
      "大于最小支持度的项 [[frozenset({5}), frozenset({3}), frozenset({2}), frozenset({1})], [frozenset({1, 3}), frozenset({2, 3}), frozenset({2, 5}), frozenset({3, 5})], [frozenset({2, 3, 5})], []]\n",
      "大于等于最小置信度的项 [[frozenset({5}), frozenset({3}), frozenset({2})], [frozenset({2, 5})], [], []]\n"
     ]
    }
   ],
   "source": [
    "if __name__ == \"__main__\":\n",
    "    dataSet = getDataSet()\n",
    "    fl,suppData,cf = apriori(dataSet)\n",
    "    print(\"大于最小支持度的项\",fl)\n",
    "    print(\"大于等于最小置信度的项\",cf)\n",
    "    #所以，买了商品2一般会买商品5"
   ]
  },
  {
   "cell_type": "code",
   "execution_count": null,
   "metadata": {},
   "outputs": [],
   "source": []
  }
 ],
 "metadata": {
  "kernelspec": {
   "display_name": "Python 3",
   "language": "python",
   "name": "python3"
  },
  "language_info": {
   "codemirror_mode": {
    "name": "ipython",
    "version": 3
   },
   "file_extension": ".py",
   "mimetype": "text/x-python",
   "name": "python",
   "nbconvert_exporter": "python",
   "pygments_lexer": "ipython3",
   "version": "3.7.0"
  }
 },
 "nbformat": 4,
 "nbformat_minor": 2
}
